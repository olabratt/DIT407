{
 "cells": [
  {
   "cell_type": "markdown",
   "id": "7030bacd",
   "metadata": {},
   "source": [
    "<h1>Import frameworks</h1>"
   ]
  },
  {
   "cell_type": "code",
   "execution_count": 188,
   "id": "27ff796d",
   "metadata": {},
   "outputs": [
    {
     "data": {
      "text/plain": [
       "'sv_SE'"
      ]
     },
     "execution_count": 188,
     "metadata": {},
     "output_type": "execute_result"
    }
   ],
   "source": [
    "import numpy as np\n",
    "import pandas as pd\n",
    "import glob\n",
    "import errno\n",
    "import re\n",
    "import locale\n",
    "import datetime\n",
    "from matplotlib import pyplot\n",
    "from bs4 import BeautifulSoup\n",
    "locale.setlocale(locale.LC_TIME, \"sv_SE\") # For Swedish dates"
   ]
  },
  {
   "cell_type": "markdown",
   "id": "e4e0b12e",
   "metadata": {},
   "source": [
    "<h1>Cleaning methods</h1>"
   ]
  },
  {
   "cell_type": "code",
   "execution_count": 191,
   "id": "5240bdda",
   "metadata": {},
   "outputs": [],
   "source": [
    "date_obj = lambda dateText: datetime.datetime.strptime(dateText.replace('Såld ','').strip(), '%d %B %Y')\n",
    "\n",
    "def cleanLocation(locationText):\n",
    "    locationText.span.decompose()        \n",
    "    stripped = locationText.text.strip().replace(\"\\n\", \"\")\n",
    "    splitted = stripped.split(',')\n",
    "    locationList = list(map(lambda x: x.strip(), splitted))\n",
    "    return \", \".join(locationList)\n",
    "\n",
    "def areaAndRoom(areaText):\n",
    "    areaText.span.decompose() if areaText.span else areaText\n",
    "    areaAndRoom = re.findall(r'\\d+', areaText.text.strip())   \n",
    "    areaAndRoomList = list(map(lambda x: x.strip(), areaAndRoom))\n",
    "    intList = [eval(i) for i in areaAndRoomList]\n",
    "    area = 0\n",
    "    room = 0\n",
    "    errors = 0\n",
    "    try:\n",
    "        area = intList[0]\n",
    "        room = intList[1]\n",
    "    except IndexError:\n",
    "        errors += 1\n",
    "    #print('Errors ' + errors.__str__())\n",
    "    return area, room\n",
    "\n",
    "def cleanLandArea(landAreaText):\n",
    "    landAreaText = landAreaText.replace('\\u00a0','')\n",
    "    return zeroIfNoNumber(landAreaText)\n",
    "\n",
    "def cleanPrice(priceText):\n",
    "    priceText = priceText.replace('Slutpris','')\n",
    "    priceText = priceText.replace('kr','')\n",
    "    priceText = priceText.replace('\\u00a0','')\n",
    "    return zeroIfNoNumber(priceText)\n",
    "\n",
    "def zeroIfNoNumber(valueText):\n",
    "    value = re.findall(r'\\d+', valueText)\n",
    "    if value.__len__() > 0:\n",
    "        value = int(value[0])\n",
    "    else:\n",
    "        value = 0\n",
    "    return value"
   ]
  },
  {
   "cell_type": "markdown",
   "id": "9a454ef2",
   "metadata": {},
   "source": [
    "<h1>Parse Entity</h1>"
   ]
  },
  {
   "cell_type": "code",
   "execution_count": 192,
   "id": "e91c559e",
   "metadata": {},
   "outputs": [],
   "source": [
    "def parseObject(obj):\n",
    "        dateText = obj.find('span',attrs={'class':'hcl-label hcl-label--state hcl-label--sold-at'}).text\n",
    "        addressText = obj.find('h2',attrs={'class':'sold-property-listing__heading qa-selling-price-title hcl-card__title'}).text\n",
    "        locationText = obj.find('span',attrs={'class':'property-icon property-icon--result'}).parent\n",
    "        areaText = obj.find('div',attrs={'class':'sold-property-listing__subheading sold-property-listing__area'})\n",
    "        extraAreaText = obj.find('span',attrs={'class':'listing-card__attribute--normal-weight'}).text if obj.find('span',attrs={'class':'listing-card__attribute--normal-weight'}) else ''\n",
    "        landAreaText = obj.find('div',attrs={'class':'sold-property-listing__land-area'}).text if obj.find('div',attrs={'class':'sold-property-listing__land-area'}) else ''\n",
    "        priceText = obj.find('span',attrs={'class':'hcl-text hcl-text--medium'}).text\n",
    "        area, room = areaAndRoom(areaText)\n",
    "        return [date_obj(dateText), addressText.strip(), cleanLocation(locationText), area, zeroIfNoNumber(extraAreaText), room, cleanLandArea(landAreaText), cleanPrice(priceText)]\n"
   ]
  },
  {
   "cell_type": "markdown",
   "id": "29e5febe",
   "metadata": {},
   "source": [
    "<h1> Parse files</h1>"
   ]
  },
  {
   "cell_type": "code",
   "execution_count": 193,
   "id": "0793c3ea",
   "metadata": {},
   "outputs": [
    {
     "name": "stdout",
     "output_type": "stream",
     "text": [
      "        Date              Address                        Location  Area  \\\n",
      "0 2017-11-23          Sjöhåla 580     Kovikshamn, Kungälvs kommun    94   \n",
      "1 2017-11-18       Galeasgatan 15        Kungälv, Kungälvs kommun   103   \n",
      "2 2017-11-17  Västerhöjdsvägen 36          Kärna, Kungälvs kommun   107   \n",
      "3 2017-11-16     Gråstensvägen 19  Kode Halltorp, Kungälvs kommun    94   \n",
      "4 2017-11-16           Hägnan 135         KAREBY, Kungälvs kommun   235   \n",
      "\n",
      "   ExtraArea  Room  LandArea    Price  \n",
      "0         87     5      1068  3100000  \n",
      "1         64     5       610  3850000  \n",
      "2          0     5       258  4000000  \n",
      "3          0     5      1197  3200000  \n",
      "4          0     6    104335  8800000  \n"
     ]
    }
   ],
   "source": [
    "dir_path = '../kungalv_slutpriser/*.html' \n",
    "files = glob.glob(dir_path)\n",
    "entities = pd.DataFrame(columns=['Date','Address','Location','Area','ExtraArea','Room', 'LandArea','Price'])\n",
    "for name in files:\n",
    "    try:\n",
    "        with open(name) as f:\n",
    "            soup = BeautifulSoup(f, \"html.parser\")\n",
    "            objects = soup.findAll('li',attrs={'class':'sold-results__normal-hit'})\n",
    "            for obj in objects:\n",
    "                entity = parseObject(obj)\n",
    "                entities.loc[len(entities.index)] = entity \n",
    "    except IOError as exc:\n",
    "        if exc.errno != errno.EISDIR:\n",
    "            raise\n",
    "\n",
    "print(entities.head())"
   ]
  },
  {
   "cell_type": "code",
   "execution_count": 196,
   "id": "25653648",
   "metadata": {},
   "outputs": [],
   "source": [
    "entities.to_csv('entities.csv', index=False, encoding='utf-8')"
   ]
  }
 ],
 "metadata": {
  "interpreter": {
   "hash": "ced63c54952fb711462c5b23e25925157bd2f9b85cfe19b36cd014c2f46d5e7f"
  },
  "kernelspec": {
   "display_name": "Python 3.8.8 64-bit ('base': conda)",
   "name": "python3"
  },
  "language_info": {
   "codemirror_mode": {
    "name": "ipython",
    "version": 3
   },
   "file_extension": ".py",
   "mimetype": "text/x-python",
   "name": "python",
   "nbconvert_exporter": "python",
   "pygments_lexer": "ipython3",
   "version": "3.8.10"
  }
 },
 "nbformat": 4,
 "nbformat_minor": 5
}
