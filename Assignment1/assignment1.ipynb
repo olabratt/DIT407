{
 "cells": [
  {
   "cell_type": "markdown",
   "id": "7030bacd",
   "metadata": {},
   "source": [
    "<h1>Import frameworks</h1>\n",
    "<p>numpy - numerical calculations</p>\n",
    "<p>scipy - optimazation and equations</p>\n",
    "<p>pandas - data analys</p>\n",
    "<p>matplotlib - graphs and plotting</p>"
   ]
  },
  {
   "cell_type": "code",
   "execution_count": 26,
   "id": "27ff796d",
   "metadata": {},
   "outputs": [],
   "source": [
    "import numpy as np\n",
    "from scipy import stats\n",
    "import pandas as pd\n",
    "from matplotlib import pyplot"
   ]
  },
  {
   "cell_type": "code",
   "execution_count": null,
   "id": "7a3c5743",
   "metadata": {},
   "outputs": [],
   "source": []
  },
  {
   "cell_type": "markdown",
   "id": "018dea49",
   "metadata": {},
   "source": [
    "<h1>Lamda functions</h1>"
   ]
  },
  {
   "cell_type": "code",
   "execution_count": 27,
   "id": "1162d384",
   "metadata": {},
   "outputs": [],
   "source": [
    "ratio = lambda children, elderly, labor: 100 * (children + elderly) / labor"
   ]
  },
  {
   "cell_type": "markdown",
   "id": "73b62892",
   "metadata": {},
   "source": [
    "<h1>Load population dataFrame</h1>"
   ]
  },
  {
   "cell_type": "markdown",
   "id": "393f8394",
   "metadata": {},
   "source": []
  },
  {
   "cell_type": "code",
   "execution_count": 113,
   "id": "2684af35",
   "metadata": {},
   "outputs": [
    {
     "name": "stdout",
     "output_type": "stream",
     "text": [
      "63.193680154207755\n",
      "age   (-1, 14]  (14, 64]  (64, 110]      ratio\n",
      "1860   1292962   2365121     201645  63.193680\n",
      "1861   1318714   2385678     208106  63.999417\n",
      "1862   1338720   2405974     212807  64.486441\n",
      "1863   1362024   2431967     217661  64.955034\n",
      "1864   1380235   2460997     219574  65.006540\n",
      "1292962\n",
      "Index(['1860', '1861', '1862', '1863', '1864', '1865', '1866', '1867', '1868',\n",
      "       '1869',\n",
      "       ...\n",
      "       '2013', '2014', '2015', '2016', '2017', '2018', '2019', '2020', '2021',\n",
      "       '2022'],\n",
      "      dtype='object', length=163)\n"
     ]
    },
    {
     "data": {
      "image/png": "[encoded data removed]",
      "text/plain": [
       "<Figure size 640x480 with 1 Axes>"
      ]
     },
     "metadata": {},
     "output_type": "display_data"
    }
   ],
   "source": [
    "population = pd.read_csv('swedish_population_by_year_and_sex_1860-2022.csv',  sep=',',)\n",
    "populationNoSex = population.drop(columns=['sex'])\n",
    "\n",
    "populationNoSex.at[220,'age'] = 110\n",
    "populationNoSex.at[221,'age'] = 110\n",
    "populationNoSex['age'] = pd.to_numeric(populationNoSex['age'], errors='coerce', downcast='float')\n",
    "\n",
    "\n",
    "\n",
    "#print(populationNoSex.iloc[:,0])\n",
    "classes = populationNoSex.groupby(pd.cut(populationNoSex['age'], [-1, 14, 64, 110])).sum()\n",
    "classes = classes.drop(columns=['age'])\n",
    "classesT = classes.transpose()\n",
    "classesT['ratio'] = classesT.apply(lambda row: ratio(row.iat[0], row.iat[2], row.iat[1]), axis=1) \n",
    "#ratioDF = classes.apply(ratio())\n",
    "\n",
    "#classses = classes.apply(ratio())\n",
    "print(ratio(1292962, 201645, 2365121))\n",
    "print(classesT.head())\n",
    "print(classesT.iat[0,0])\n",
    "print(classesT.index)\n",
    "\n",
    "\n",
    "pyplot.plot(classesT.index.values, classesT['ratio'])\n",
    "pyplot.show()\n",
    "\n",
    "#print(populationByAge.index)\n",
    "#print(f\"Heads:  {populationByAge.head()}\")"
   ]
  },
  {
   "cell_type": "markdown",
   "id": "278c2add",
   "metadata": {},
   "source": [
    "<h1>Create new dataset</h1>"
   ]
  },
  {
   "cell_type": "code",
   "execution_count": 47,
   "id": "34367ae7",
   "metadata": {},
   "outputs": [
    {
     "ename": "KeyError",
     "evalue": "'age'",
     "output_type": "error",
     "traceback": [
      "\u001b[0;31m---------------------------------------------------------------------------\u001b[0m",
      "\u001b[0;31mKeyError\u001b[0m                                  Traceback (most recent call last)",
      "File \u001b[0;32m~/opt/anaconda3/envs/py38/lib/python3.8/site-packages/pandas/core/indexes/base.py:3653\u001b[0m, in \u001b[0;36mIndex.get_loc\u001b[0;34m(self, key)\u001b[0m\n\u001b[1;32m   3652\u001b[0m \u001b[38;5;28;01mtry\u001b[39;00m:\n\u001b[0;32m-> 3653\u001b[0m     \u001b[38;5;28;01mreturn\u001b[39;00m \u001b[38;5;28;43mself\u001b[39;49m\u001b[38;5;241;43m.\u001b[39;49m\u001b[43m_engine\u001b[49m\u001b[38;5;241;43m.\u001b[39;49m\u001b[43mget_loc\u001b[49m\u001b[43m(\u001b[49m\u001b[43mcasted_key\u001b[49m\u001b[43m)\u001b[49m\n\u001b[1;32m   3654\u001b[0m \u001b[38;5;28;01mexcept\u001b[39;00m \u001b[38;5;167;01mKeyError\u001b[39;00m \u001b[38;5;28;01mas\u001b[39;00m err:\n",
      "File \u001b[0;32m~/opt/anaconda3/envs/py38/lib/python3.8/site-packages/pandas/_libs/index.pyx:147\u001b[0m, in \u001b[0;36mpandas._libs.index.IndexEngine.get_loc\u001b[0;34m()\u001b[0m\n",
      "File \u001b[0;32m~/opt/anaconda3/envs/py38/lib/python3.8/site-packages/pandas/_libs/index.pyx:176\u001b[0m, in \u001b[0;36mpandas._libs.index.IndexEngine.get_loc\u001b[0;34m()\u001b[0m\n",
      "File \u001b[0;32mpandas/_libs/hashtable_class_helper.pxi:7080\u001b[0m, in \u001b[0;36mpandas._libs.hashtable.PyObjectHashTable.get_item\u001b[0;34m()\u001b[0m\n",
      "File \u001b[0;32mpandas/_libs/hashtable_class_helper.pxi:7088\u001b[0m, in \u001b[0;36mpandas._libs.hashtable.PyObjectHashTable.get_item\u001b[0;34m()\u001b[0m\n",
      "\u001b[0;31mKeyError\u001b[0m: 'age'",
      "\nThe above exception was the direct cause of the following exception:\n",
      "\u001b[0;31mKeyError\u001b[0m                                  Traceback (most recent call last)",
      "Cell \u001b[0;32mIn[47], line 1\u001b[0m\n\u001b[0;32m----> 1\u001b[0m \u001b[38;5;28mprint\u001b[39m(\u001b[43mpopGroupsByAge\u001b[49m\u001b[43m[\u001b[49m\u001b[38;5;124;43m'\u001b[39;49m\u001b[38;5;124;43mage\u001b[39;49m\u001b[38;5;124;43m'\u001b[39;49m\u001b[43m]\u001b[49m)\n",
      "File \u001b[0;32m~/opt/anaconda3/envs/py38/lib/python3.8/site-packages/pandas/core/frame.py:3761\u001b[0m, in \u001b[0;36mDataFrame.__getitem__\u001b[0;34m(self, key)\u001b[0m\n\u001b[1;32m   3759\u001b[0m \u001b[38;5;28;01mif\u001b[39;00m \u001b[38;5;28mself\u001b[39m\u001b[38;5;241m.\u001b[39mcolumns\u001b[38;5;241m.\u001b[39mnlevels \u001b[38;5;241m>\u001b[39m \u001b[38;5;241m1\u001b[39m:\n\u001b[1;32m   3760\u001b[0m     \u001b[38;5;28;01mreturn\u001b[39;00m \u001b[38;5;28mself\u001b[39m\u001b[38;5;241m.\u001b[39m_getitem_multilevel(key)\n\u001b[0;32m-> 3761\u001b[0m indexer \u001b[38;5;241m=\u001b[39m \u001b[38;5;28;43mself\u001b[39;49m\u001b[38;5;241;43m.\u001b[39;49m\u001b[43mcolumns\u001b[49m\u001b[38;5;241;43m.\u001b[39;49m\u001b[43mget_loc\u001b[49m\u001b[43m(\u001b[49m\u001b[43mkey\u001b[49m\u001b[43m)\u001b[49m\n\u001b[1;32m   3762\u001b[0m \u001b[38;5;28;01mif\u001b[39;00m is_integer(indexer):\n\u001b[1;32m   3763\u001b[0m     indexer \u001b[38;5;241m=\u001b[39m [indexer]\n",
      "File \u001b[0;32m~/opt/anaconda3/envs/py38/lib/python3.8/site-packages/pandas/core/indexes/base.py:3655\u001b[0m, in \u001b[0;36mIndex.get_loc\u001b[0;34m(self, key)\u001b[0m\n\u001b[1;32m   3653\u001b[0m     \u001b[38;5;28;01mreturn\u001b[39;00m \u001b[38;5;28mself\u001b[39m\u001b[38;5;241m.\u001b[39m_engine\u001b[38;5;241m.\u001b[39mget_loc(casted_key)\n\u001b[1;32m   3654\u001b[0m \u001b[38;5;28;01mexcept\u001b[39;00m \u001b[38;5;167;01mKeyError\u001b[39;00m \u001b[38;5;28;01mas\u001b[39;00m err:\n\u001b[0;32m-> 3655\u001b[0m     \u001b[38;5;28;01mraise\u001b[39;00m \u001b[38;5;167;01mKeyError\u001b[39;00m(key) \u001b[38;5;28;01mfrom\u001b[39;00m \u001b[38;5;21;01merr\u001b[39;00m\n\u001b[1;32m   3656\u001b[0m \u001b[38;5;28;01mexcept\u001b[39;00m \u001b[38;5;167;01mTypeError\u001b[39;00m:\n\u001b[1;32m   3657\u001b[0m     \u001b[38;5;66;03m# If we have a listlike key, _check_indexing_error will raise\u001b[39;00m\n\u001b[1;32m   3658\u001b[0m     \u001b[38;5;66;03m#  InvalidIndexError. Otherwise we fall through and re-raise\u001b[39;00m\n\u001b[1;32m   3659\u001b[0m     \u001b[38;5;66;03m#  the TypeError.\u001b[39;00m\n\u001b[1;32m   3660\u001b[0m     \u001b[38;5;28mself\u001b[39m\u001b[38;5;241m.\u001b[39m_check_indexing_error(key)\n",
      "\u001b[0;31mKeyError\u001b[0m: 'age'"
     ]
    }
   ],
   "source": [
    "print(popGroupsByAge['age'])\n",
    "#classes = popGroupsByAge.groupby(pd.cut(x=popGroupsByAge['age'], bins= [0, 14, 64, 110])).sum()\n",
    "\n",
    "\n",
    "\n"
   ]
  },
  {
   "cell_type": "markdown",
   "id": "19f0847c",
   "metadata": {},
   "source": []
  }
 ],
 "metadata": {
  "interpreter": {
   "hash": "ced63c54952fb711462c5b23e25925157bd2f9b85cfe19b36cd014c2f46d5e7f"
  },
  "kernelspec": {
   "display_name": "Python 3.8.8 64-bit ('base': conda)",
   "name": "python3"
  },
  "language_info": {
   "codemirror_mode": {
    "name": "ipython",
    "version": 3
   },
   "file_extension": ".py",
   "mimetype": "text/x-python",
   "name": "python",
   "nbconvert_exporter": "python",
   "pygments_lexer": "ipython3",
   "version": "3.8.10"
  }
 },
 "nbformat": 4,
 "nbformat_minor": 5
}
