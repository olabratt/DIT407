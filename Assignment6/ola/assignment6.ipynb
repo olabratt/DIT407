{
 "cells": [
  {
   "cell_type": "markdown",
   "id": "7030bacd",
   "metadata": {},
   "source": [
    "<h1>Import frameworks</h1>"
   ]
  },
  {
   "cell_type": "code",
   "execution_count": 1,
   "id": "27ff796d",
   "metadata": {},
   "outputs": [],
   "source": [
    "import torch\n",
    "import torchvision\n",
    "import torch.nn as nn\n",
    "import torch.nn.functional as F\n",
    "import torch.optim as optim\n",
    "import torchvision.transforms as transforms\n",
    "import matplotlib.pyplot as plt\n",
    "import pandas as pd\n",
    "import numpy as np\n",
    "import matplotlib.pyplot as plt\n",
    "\n",
    "from torchvision import datasets\n",
    "from torch.utils.data import DataLoader\n",
    "\n",
    "\n",
    "#gpu_device = torch.device(\"cpu\")\n",
    "#if torch.backends.mps.is_available():\n",
    "#    gpu_device = torch.device(\"mps\")\n",
    "#else:\n",
    "#    print (\"MPS device not found.\")"
   ]
  },
  {
   "cell_type": "markdown",
   "id": "ad2cea36",
   "metadata": {},
   "source": [
    "<h1>Import datasets</h1>"
   ]
  },
  {
   "cell_type": "code",
   "execution_count": 2,
   "id": "e049cb96",
   "metadata": {},
   "outputs": [
    {
     "name": "stdout",
     "output_type": "stream",
     "text": [
      "train dataset:  60000\n",
      "test dataset:  10000\n"
     ]
    }
   ],
   "source": [
    "batch_size = 32\n",
    "\n",
    "transform = transforms.Compose([\n",
    "    transforms.Resize((28, 28)), \n",
    "    transforms.ToTensor(),  \n",
    "    transforms.Normalize((0.5,), (0.5,))  \n",
    "])\n",
    "\n",
    "train_dataset = datasets.MNIST(root='Assignment6/', train=True, download=True, transform=transform)\n",
    "test_dataset = datasets.MNIST(root='Assignment6/', train=False, download=True, transform=transform)\n",
    "\n",
    "train_loader = DataLoader(train_dataset, batch_size=batch_size, shuffle=True, num_workers=2)\n",
    "test_loader = DataLoader(test_dataset, batch_size=batch_size, shuffle=False, num_workers=2)\n",
    "\n",
    "print(\"train dataset: \", len(train_dataset))\n",
    "print(\"test dataset: \", len(test_dataset))\n",
    "\n"
   ]
  },
  {
   "cell_type": "markdown",
   "id": "185f3f3a",
   "metadata": {},
   "source": [
    "<h1>Plot images</h1>"
   ]
  },
  {
   "cell_type": "code",
   "execution_count": null,
   "id": "b6f8f130",
   "metadata": {},
   "outputs": [],
   "source": [
    "\n",
    "for images, labels in train_loader:\n",
    "    print(\"Image shape:\", images.size())\n",
    "    print(\"Label shape:\", labels.size()) \n",
    "\n",
    "    plt.figure(figsize=(10, 10))\n",
    "    for i in range(4):\n",
    "        plt.subplot(5, 5, i + 1)\n",
    "        plt.imshow(images[i].squeeze(), cmap='gray') \n",
    "        plt.title(f'Label: {labels[i]}')\n",
    "        plt.axis('off')\n",
    "    plt.show()\n",
    "    plt.savefig('mnist_images.png', bbox_inches='tight')\n",
    "    break  \n"
   ]
  },
  {
   "cell_type": "markdown",
   "id": "1414b01d",
   "metadata": {},
   "source": [
    "<h1>Neural Network</h1>"
   ]
  },
  {
   "cell_type": "code",
   "execution_count": null,
   "id": "59a2fed6",
   "metadata": {},
   "outputs": [],
   "source": [
    "class NeuralNet(nn.Module):\n",
    "    def __init__(self, input_size, hidden_sizes, output_size):\n",
    "        super(NeuralNet, self).__init__()\n",
    "        layer_sizes = [input_size] + hidden_sizes + [output_size]\n",
    "        \n",
    "        layers = []\n",
    "        for i in range(len(layer_sizes) - 1):\n",
    "            layers.append(nn.Linear(layer_sizes[i], layer_sizes[i+1]))\n",
    "            if i < len(layer_sizes) - 2:  # Add ReLU except for the last layer\n",
    "                layers.append(nn.ReLU())\n",
    "\n",
    "\n",
    "        self.model = nn.Sequential(*layers)\n",
    "\n",
    "    def forward(self, x):\n",
    "        x = x.view(-1, 28 * 28)\n",
    "        return self.model(x)"
   ]
  },
  {
   "cell_type": "markdown",
   "id": "c09449ad",
   "metadata": {},
   "source": [
    "<h1>Training</h1>"
   ]
  },
  {
   "cell_type": "code",
   "execution_count": 3,
   "id": "367af1d3",
   "metadata": {},
   "outputs": [],
   "source": [
    "def train(model, criterion, optimizer, train_loader, test_loader, num_epochs, name):\n",
    "    train_losses = []  \n",
    "    test_losses = []\n",
    "\n",
    "    for epoch in range(num_epochs):\n",
    "        model.train()  \n",
    "        running_loss = 0.0\n",
    "\n",
    "        for images, labels in train_loader:\n",
    "            #images, labels = inputs.to(gpu_device), labels.to(gpu_device)\n",
    "            outputs = model(images)\n",
    "            loss = criterion(outputs, labels)\n",
    "\n",
    "            optimizer.zero_grad()\n",
    "            loss.backward()\n",
    "            optimizer.step()\n",
    "\n",
    "            running_loss += loss.item()\n",
    "\n",
    "        \n",
    "        epoch_loss = running_loss / len(train_loader)\n",
    "        train_losses.append(epoch_loss)\n",
    "\n",
    "        model.eval()\n",
    "        test_loss = 0.0\n",
    "        for images, labels in test_loader:\n",
    "            #images, labels = inputs.to(gpu_device), labels.to(gpu_device)\n",
    "            outputs = model(images)\n",
    "            loss = criterion(outputs, labels)\n",
    "            test_loss += loss.item()\n",
    "        test_loss /= len(test_loader)\n",
    "        test_losses.append(test_loss)\n",
    "\n",
    "        print(f\"Epoch [{epoch+1}/{num_epochs}], Training Loss: {epoch_loss:.4f}, Test Loss: {test_loss:.4f}\")\n",
    "\n",
    "\n",
    "    fig, ax = plt.subplots(figsize=(8, 6), layout='constrained')\n",
    "    ax.plot(range(1, num_epochs + 1), train_losses, label='Training Loss')\n",
    "    ax.plot(range(1, num_epochs + 1), test_losses, label='Test Loss')\n",
    "    ax.set_xlabel('Epochs')\n",
    "    ax.set_ylabel('Loss')\n",
    "    ax.set_title('Training and Test Losses')\n",
    "    ax.legend()\n",
    "    plt.show()\n",
    "    fig.savefig(name  +  \".pdf\", bbox_inches='tight')\n"
   ]
  },
  {
   "cell_type": "markdown",
   "id": "b48c2097",
   "metadata": {},
   "source": [
    "<h1>Single hidden layer</h1>"
   ]
  },
  {
   "cell_type": "code",
   "execution_count": null,
   "id": "11ef3741",
   "metadata": {},
   "outputs": [],
   "source": [
    "input_size = 28 * 28 \n",
    "hidden_sizes = [500] # Is this the best choice?\n",
    "output_size = 10  \n",
    "\n",
    "model = NeuralNet(input_size, hidden_sizes, output_size)\n",
    "#model = model.to(gpu_device)\n",
    "\n",
    "learning_rate = 0.1\n",
    "optimizer = optim.SGD(model.parameters(), lr=learning_rate)\n",
    "num_epochs = 10\n",
    "criterion = nn.CrossEntropyLoss()\n",
    "\n",
    "train(model, criterion, optimizer, train_loader, test_loader, num_epochs, \"single_hidden_layer\")"
   ]
  },
  {
   "cell_type": "markdown",
   "id": "f06eabb1",
   "metadata": {},
   "source": [
    "<h1>Two hidden layer</h1>"
   ]
  },
  {
   "cell_type": "code",
   "execution_count": null,
   "id": "fbb99435",
   "metadata": {},
   "outputs": [],
   "source": [
    "input_size = 28 * 28   \n",
    "hidden_sizes = [500, 300]  \n",
    "output_size = 10  \n",
    "weight_decay = 0.01\n",
    "model = NeuralNet(input_size, hidden_sizes, output_size)\n",
    "\n",
    "learning_rate = 0.1\n",
    "optimizer = optim.SGD(model.parameters(), lr=learning_rate, weight_decay=weight_decay)\n",
    "num_epochs = 40\n",
    "criterion = nn.CrossEntropyLoss()\n",
    "\n",
    "train(model, criterion, optimizer, train_loader, test_loader, num_epochs, \"two_hidden_layer\")\n",
    "\n"
   ]
  },
  {
   "cell_type": "markdown",
   "id": "f132bc79",
   "metadata": {},
   "source": [
    "<h1>Convolutional neural network</h1>"
   ]
  },
  {
   "cell_type": "code",
   "execution_count": 4,
   "id": "f3b2c0ea",
   "metadata": {},
   "outputs": [],
   "source": [
    "class CNN(nn.Module):\n",
    "    def __init__(self):\n",
    "        super(CNN, self).__init__()\n",
    "        self.conv1 = nn.Conv2d(in_channels=1, out_channels=16, kernel_size=3, stride=1, padding=1)\n",
    "        self.conv2 = nn.Conv2d(in_channels=16, out_channels=32, kernel_size=3, stride=1, padding=1)\n",
    "        self.fc1 = nn.Linear(32 * 7 * 7, 128)\n",
    "        self.fc2 = nn.Linear(128, 10)\n",
    "\n",
    "    def forward(self, x):\n",
    "        x = F.relu(self.conv1(x))\n",
    "        x = F.max_pool2d(x, kernel_size=2, stride=2)\n",
    "        x = F.relu(self.conv2(x))\n",
    "        x = F.max_pool2d(x, kernel_size=2, stride=2)\n",
    "        x = x.view(-1, 32 * 7 * 7)\n",
    "        x = F.relu(self.fc1(x))\n",
    "        x = self.fc2(x)\n",
    "        return x"
   ]
  },
  {
   "cell_type": "code",
   "execution_count": 5,
   "id": "effbc74e",
   "metadata": {},
   "outputs": [],
   "source": [
    "class CNN2(nn.Module):\n",
    "    def __init__(self):\n",
    "        super(CNN2, self).__init__()\n",
    "        # Convolutional layers\n",
    "        self.conv1 = nn.Conv2d(in_channels=1, out_channels=32, kernel_size=3, stride=1, padding=1)\n",
    "        self.conv2 = nn.Conv2d(in_channels=32, out_channels=64, kernel_size=3, stride=1, padding=1)\n",
    "        self.conv3 = nn.Conv2d(in_channels=64, out_channels=128, kernel_size=3, stride=1, padding=1)\n",
    "        self.pool = nn.MaxPool2d(kernel_size=2, stride=2)\n",
    "        self.fc1 = nn.Linear(128 * 3 * 3, 512)\n",
    "        self.fc2 = nn.Linear(512, 256)\n",
    "        self.fc3 = nn.Linear(256, 10)\n",
    "        self.dropout = nn.Dropout(p=0.5)\n",
    "\n",
    "    def forward(self, x):\n",
    "        x = self.pool(F.relu(self.conv1(x)))\n",
    "        x = self.pool(F.relu(self.conv2(x)))\n",
    "        x = self.pool(F.relu(self.conv3(x)))\n",
    "        x = x.view(-1, 128 * 3 * 3)\n",
    "        x = F.relu(self.fc1(x))\n",
    "        x = self.dropout(x)\n",
    "        x = F.relu(self.fc2(x))\n",
    "        x = self.dropout(x)\n",
    "        x = self.fc3(x)\n",
    "        return x\n"
   ]
  },
  {
   "cell_type": "markdown",
   "id": "80cbcc08",
   "metadata": {},
   "source": [
    "<h1>Train convolutional neural network</h1>"
   ]
  },
  {
   "cell_type": "code",
   "execution_count": 6,
   "id": "ae116268",
   "metadata": {},
   "outputs": [
    {
     "name": "stdout",
     "output_type": "stream",
     "text": [
      "Epoch [1/40], Training Loss: 0.5129, Test Loss: 0.0877\n",
      "Epoch [2/40], Training Loss: 0.1380, Test Loss: 0.0768\n",
      "Epoch [3/40], Training Loss: 0.1254, Test Loss: 0.0788\n",
      "Epoch [4/40], Training Loss: 0.1200, Test Loss: 0.0544\n",
      "Epoch [5/40], Training Loss: 0.1201, Test Loss: 0.0588\n",
      "Epoch [6/40], Training Loss: 0.1168, Test Loss: 0.0768\n",
      "Epoch [7/40], Training Loss: 0.1146, Test Loss: 0.0763\n",
      "Epoch [8/40], Training Loss: 0.1166, Test Loss: 0.0697\n",
      "Epoch [9/40], Training Loss: 0.1152, Test Loss: 0.0590\n",
      "Epoch [10/40], Training Loss: 0.1155, Test Loss: 0.0851\n",
      "Epoch [11/40], Training Loss: 0.1142, Test Loss: 0.1165\n",
      "Epoch [12/40], Training Loss: 0.1160, Test Loss: 0.0713\n",
      "Epoch [13/40], Training Loss: 0.1139, Test Loss: 0.0842\n",
      "Epoch [14/40], Training Loss: 0.1179, Test Loss: 0.0698\n",
      "Epoch [15/40], Training Loss: 0.1142, Test Loss: 0.0711\n",
      "Epoch [16/40], Training Loss: 0.1166, Test Loss: 0.0761\n",
      "Epoch [17/40], Training Loss: 0.1124, Test Loss: 0.0722\n",
      "Epoch [18/40], Training Loss: 0.1136, Test Loss: 0.0838\n",
      "Epoch [19/40], Training Loss: 0.1145, Test Loss: 0.0534\n",
      "Epoch [20/40], Training Loss: 0.1114, Test Loss: 0.0672\n",
      "Epoch [21/40], Training Loss: 0.1143, Test Loss: 0.0974\n",
      "Epoch [22/40], Training Loss: 0.1119, Test Loss: 0.0555\n",
      "Epoch [23/40], Training Loss: 0.1140, Test Loss: 0.0606\n",
      "Epoch [24/40], Training Loss: 0.1121, Test Loss: 0.0584\n",
      "Epoch [25/40], Training Loss: 0.1123, Test Loss: 0.0700\n",
      "Epoch [26/40], Training Loss: 0.1196, Test Loss: 0.0771\n",
      "Epoch [27/40], Training Loss: 0.1155, Test Loss: 0.0615\n",
      "Epoch [28/40], Training Loss: 0.1138, Test Loss: 0.1164\n",
      "Epoch [29/40], Training Loss: 0.1126, Test Loss: 0.0739\n",
      "Epoch [30/40], Training Loss: 0.1141, Test Loss: 0.0589\n",
      "Epoch [31/40], Training Loss: 0.1118, Test Loss: 0.0616\n",
      "Epoch [32/40], Training Loss: 0.1137, Test Loss: 0.0754\n",
      "Epoch [33/40], Training Loss: 0.1133, Test Loss: 0.1231\n",
      "Epoch [34/40], Training Loss: 0.1148, Test Loss: 0.0650\n",
      "Epoch [35/40], Training Loss: 0.1127, Test Loss: 0.0680\n",
      "Epoch [36/40], Training Loss: 0.1119, Test Loss: 0.1011\n",
      "Epoch [37/40], Training Loss: 0.1129, Test Loss: 0.0647\n",
      "Epoch [38/40], Training Loss: 0.1132, Test Loss: 0.0798\n",
      "Epoch [39/40], Training Loss: 0.1117, Test Loss: 0.0616\n",
      "Epoch [40/40], Training Loss: 0.1127, Test Loss: 0.0723\n"
     ]
    },
    {
     "data": {
      "image/png": "[encoded data removed]",
      "text/plain": [
       "<Figure size 800x600 with 1 Axes>"
      ]
     },
     "metadata": {},
     "output_type": "display_data"
    }
   ],
   "source": [
    "\n",
    "model = CNN2() #CNN()\n",
    "\n",
    "weight_decay = 0.01\n",
    "learning_rate = 0.1\n",
    "optimizer = optim.SGD(model.parameters(), lr=learning_rate, weight_decay=weight_decay)\n",
    "num_epochs = 40\n",
    "criterion = nn.CrossEntropyLoss()\n",
    "\n",
    "train(model, criterion, optimizer, train_loader, test_loader, num_epochs, \"cnn\")"
   ]
  },
  {
   "cell_type": "code",
   "execution_count": null,
   "id": "a6433ab9",
   "metadata": {},
   "outputs": [],
   "source": [
    "\n",
    "\n",
    "conv1 = nn.Conv2d(in_channels=1, out_channels=32, kernel_size=3, stride=1, padding=1)\n",
    "conv2 = nn.Conv2d(in_channels=32, out_channels=64, kernel_size=3, stride=1, padding=1)\n",
    "conv3 = nn.Conv2d(in_channels=64, out_channels=128, kernel_size=3, stride=1, padding=1)\n",
    "pool = nn.MaxPool2d(kernel_size=2, stride=2)\n",
    "\n",
    "# Create a random input tensor\n",
    "x = torch.randn(32, 1, 28, 28)  # Batch size of 32, 1 channel, 28x28 image\n",
    "\n",
    "\n",
    "\n",
    "\n",
    "print(\"Output:\", x.size())\n",
    "x = conv1(x)\n",
    "print(\"Output after conv1:\", x.size())\n",
    "x = conv2(x)\n",
    "print(\"Output after conv2:\", x.size())\n",
    "x = conv3(x)\n",
    "print(\"Output after conv3:\", x.size())\n",
    "x = pool(x)\n",
    "print(\"Output after pool1:\", x.size())\n",
    "x = pool(x)\n",
    "print(\"Output after pool2:\", x.size())\n",
    "x = pool(x)\n",
    "print(\"Output after pool3:\", x.size())\n",
    "\n"
   ]
  }
 ],
 "metadata": {
  "interpreter": {
   "hash": "ced63c54952fb711462c5b23e25925157bd2f9b85cfe19b36cd014c2f46d5e7f"
  },
  "kernelspec": {
   "display_name": "Python 3.8.8 64-bit ('base': conda)",
   "name": "python3"
  },
  "language_info": {
   "codemirror_mode": {
    "name": "ipython",
    "version": 3
   },
   "file_extension": ".py",
   "mimetype": "text/x-python",
   "name": "python",
   "nbconvert_exporter": "python",
   "pygments_lexer": "ipython3",
   "version": "3.11.5"
  }
 },
 "nbformat": 4,
 "nbformat_minor": 5
}
